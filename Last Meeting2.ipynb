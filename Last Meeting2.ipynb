{
 "cells": [
  {
   "cell_type": "code",
   "execution_count": 4,
   "metadata": {},
   "outputs": [],
   "source": [
    "import pandas as pd\n",
    "import numpy as np\n",
    "import torch\n",
    "import torch.nn as nn"
   ]
  },
  {
   "cell_type": "code",
   "execution_count": 82,
   "metadata": {},
   "outputs": [],
   "source": [
    "class CNN(nn.Module):\n",
    "    def __init__(self, vocab_size, embedding_dim):\n",
    "        super(CNN, self).__init__()\n",
    "        self.vocab_size = vocab_size\n",
    "        self.embedding_dim = embedding_dim\n",
    "        \n",
    "        # layers\n",
    "        self.embedding = nn.Embedding(self.vocab_size, self.embedding_dim)\n",
    "        self.conv1 = nn.Conv1d(100,128,kernel_size=(5))\n",
    "        self.conv2 = nn.Conv1d(128,128,kernel_size=(5))\n",
    "        self.conv3 = nn.Conv1d(128,128,kernel_size=(5))\n",
    "        self.max1 = nn.MaxPool1d(5)\n",
    "        self.max2 = nn.MaxPool1d(35)\n",
    "        self.fc = nn.Linear(10368,2)\n",
    "        self.sm = nn.Softmax()\n",
    "    \n",
    "    def forward(self, x):\n",
    "        x = self.embedding(x)\n",
    "        print(x.shape)\n",
    "        x = self.conv1(x.permute(0,2,1))\n",
    "        print(x.shape)\n",
    "        x = self.max1(x)\n",
    "        print(x.shape)\n",
    "        x = self.conv2(x)\n",
    "        print(x.shape)\n",
    "        x = self.max1(x)\n",
    "        print(x.shape)\n",
    "        x = self.conv3(x)\n",
    "        print(x.shape)\n",
    "        x = self.max2(x)\n",
    "        print(x.shape)\n",
    "        x = self.fc(x.flatten())\n",
    "        x = self.sm(x)\n",
    "        print(x.shape)\n",
    "        return x"
   ]
  },
  {
   "cell_type": "code",
   "execution_count": 83,
   "metadata": {},
   "outputs": [],
   "source": [
    "model = CNN(76,100)"
   ]
  },
  {
   "cell_type": "code",
   "execution_count": 84,
   "metadata": {},
   "outputs": [
    {
     "name": "stdout",
     "output_type": "stream",
     "text": [
      "torch.Size([1, 71064, 100])\n",
      "torch.Size([1, 128, 71060])\n",
      "torch.Size([1, 128, 14212])\n",
      "torch.Size([1, 128, 14208])\n",
      "torch.Size([1, 128, 2841])\n",
      "torch.Size([1, 128, 2837])\n",
      "torch.Size([1, 128, 81])\n",
      "torch.Size([2])\n",
      "tensor([0.5057, 0.4943], grad_fn=<SoftmaxBackward>)\n"
     ]
    },
    {
     "name": "stderr",
     "output_type": "stream",
     "text": [
      "E:\\Program\\Anaconda\\lib\\site-packages\\ipykernel_launcher.py:33: UserWarning: Implicit dimension choice for softmax has been deprecated. Change the call to include dim=X as an argument.\n"
     ]
    },
    {
     "data": {
      "text/plain": [
       "'sarkas'"
      ]
     },
     "execution_count": 84,
     "metadata": {},
     "output_type": "execute_result"
    }
   ],
   "source": [
    "labels = ['sarkas','non sarkas']\n",
    "inputs = torch.randn(1,71064)\n",
    "inputs = inputs.random_(0,2)\n",
    "pred = model(inputs.long())\n",
    "print(pred)\n",
    "pred = torch.max(pred,0)[1]\n",
    "labels[pred]"
   ]
  },
  {
   "cell_type": "code",
   "execution_count": null,
   "metadata": {},
   "outputs": [],
   "source": []
  },
  {
   "cell_type": "code",
   "execution_count": null,
   "metadata": {},
   "outputs": [],
   "source": []
  }
 ],
 "metadata": {
  "kernelspec": {
   "display_name": "Python 3",
   "language": "python",
   "name": "python3"
  },
  "language_info": {
   "codemirror_mode": {
    "name": "ipython",
    "version": 3
   },
   "file_extension": ".py",
   "mimetype": "text/x-python",
   "name": "python",
   "nbconvert_exporter": "python",
   "pygments_lexer": "ipython3",
   "version": "3.6.6"
  }
 },
 "nbformat": 4,
 "nbformat_minor": 2
}
